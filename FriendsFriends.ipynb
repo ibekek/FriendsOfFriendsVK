{
  "cells": [
    {
      "cell_type": "code",
      "execution_count": null,
      "metadata": {
        "id": "4vfXZTCGHw6H"
      },
      "outputs": [],
      "source": [
        "from requests import get\n",
        "import json\n",
        "def get_user_friends(user_id):\n",
        "    response = get(f'https://api.vk.com/method/friends.get?v=5.131&access_token={token}&user_id={user_id}&fields=nickname')\n",
        "    try:\n",
        "        toRet = [{'id': pers['id'], 'name': f\"{pers['first_name']} {pers['last_name']}\"} for pers in json.loads(response.text)['response']['items']]\n",
        "    except KeyError:\n",
        "        toRet = []\n",
        "    return toRet"
      ]
    },
    {
      "cell_type": "code",
      "execution_count": null,
      "metadata": {
        "id": "FBO1AC9GHw6J"
      },
      "outputs": [],
      "source": [
        "import vk_api\n",
        "import networkx as nx\n",
        "token='3de6e36b3de6e36b3de6e36b293ef433c533de63de6e36b5e1e1cba36999d0d15f65ef8'\n",
        "# Создаем объект vk_session и получаем объект VK API\n",
        "vk_session = vk_api.VkApi(token=token)\n",
        "vk = vk_session.get_api()\n",
        "\n",
        "# Задаем список пользователей, для которых мы будем строить граф\n",
        "user_ids = [17958998,   # Апальков Никита\n",
        "    430899909,  # Асямолов Антон\n",
        "    167840516,  # Верников Сергей\n",
        "    474712276,  # Видякин Александр\n",
        "    132187153,  # Власков Александр\n",
        "    93734430,   # Кантемиров Роман\n",
        "    169871363,  # Кириллов Григорий\n",
        "    211222538,  # Кудряшев Роман\n",
        "    78087447,   # Назаров Тимур\n",
        "    346137565,  # Ознобихин Виталий\n",
        "    54575378,   # Покровская Анна\n",
        "    220270939,  # Сорокин Николай\n",
        "    217432918,  # Толокнова Владлена\n",
        "    155827251,  # Ципигин Дмитрий\n",
        "    203613697 ,  # Яшин Никита\n",
        "    ]"
      ]
    },
    {
      "cell_type": "code",
      "execution_count": null,
      "metadata": {
        "id": "fvdjfrF8Hw6K"
      },
      "outputs": [],
      "source": [
        "# Создаем пустой граф\n",
        "G = nx.Graph()\n",
        "\n",
        "G.add_nodes_from([\n",
        "    (17958998, {\"name\": \"Апальков Никита\"}),\n",
        "    (430899909, {\"name\": \"Асямолов Антон\"}),\n",
        "    (167840516, {\"name\": \"Верников Сергей\"}),\n",
        "    (474712276, {\"name\": \"Видякин Александр\"}),\n",
        "    (132187153, {\"name\": \"Власков Александр\"}),\n",
        "    (93734430, {\"name\": \"Кантемиров Роман\"}),\n",
        "    (169871363, {\"name\": \"Кириллов Григорий\"}),\n",
        "    (211222538, {\"name\": \"Кудряшев Роман\"}),\n",
        "    (78087447, {\"name\": \"Назаров Тимур\"}),\n",
        "    (346137565, {\"name\": \"Ознобихин Виталий\"}),\n",
        "    (54575378, {\"name\": \"Покровская Анна\"}),\n",
        "    (220270939, {\"name\": \"Сорокин Николай\"}),\n",
        "    (217432918, {\"name\": \"Толокнова Владлена\"}),\n",
        "    (155827251, {\"name\": \"Ципигин Дмитрий\"}),\n",
        "    (203613697, {\"name\": \"Яшин Никита\"}),\n",
        "])\n",
        "#  Для каждого пользователя из списка user_ids\n",
        "for user_id in user_ids:\n",
        "    try:\n",
        "        #  Получаем список друзей пользователя\n",
        "        friends = get_user_friends(user_id)\n",
        "\n",
        "        #  Для каждого друга пользователя\n",
        "        for friend in friends:\n",
        "            try:\n",
        "                #  Получаем список друзей друга пользователя\n",
        "                friends2 = get_user_friends(friend['id'])\n",
        "\n",
        "                #  Добавляем друга пользователя в граф\n",
        "                G.add_nodes_from([(friend['id'], {\"name\": friend['name']})])\n",
        "\n",
        "                #  Добавляем ребро между пользователем и его другом\n",
        "                G.add_edge(user_id, friend['id'])\n",
        "\n",
        "                #  Для каждого друга друга пользователя\n",
        "                for friend_friend in friends2:\n",
        "                    try:\n",
        "                        #  Добавляем друга друга пользователя в граф\n",
        "                        G.add_nodes_from([(friend_friend['id'], {\"name\": friend_friend['name']})])\n",
        "\n",
        "                        #  Добавляем ребро между другом пользователя и его другом друга\n",
        "                        G.add_edge(friend['id'], friend_friend['id'])\n",
        "                    except:\n",
        "                        pass\n",
        "            except:\n",
        "                pass\n",
        "    except:\n",
        "        pass"
      ]
    },
    {
      "cell_type": "code",
      "execution_count": null,
      "metadata": {
        "id": "tEciB9S_Hw6L"
      },
      "outputs": [],
      "source": [
        "# Сохраняем граф в файл при помощи модуля pickle\n",
        "import pickle\n",
        "with open('graph.pickle', 'wb') as f:\n",
        "    pickle.dump(G, f)"
      ]
    },
    {
      "cell_type": "code",
      "execution_count": null,
      "metadata": {
        "id": "npR8xuBZHw6L"
      },
      "outputs": [],
      "source": [
        "pos = nx.spring_layout(G)\n",
        "nx.draw(G, pos, node_color='lightblue', with_labels=True, font_size=10, node_size=500, alpha=0.8)"
      ]
    },
    {
      "cell_type": "code",
      "execution_count": null,
      "metadata": {
        "id": "lJmaVfY1Hw6L"
      },
      "outputs": [],
      "source": [
        "#Центральность посредничество\n",
        "between_cent = nx.betweenness_centrality(G)\n",
        "print(between_cent)"
      ]
    },
    {
      "cell_type": "code",
      "execution_count": null,
      "metadata": {
        "id": "eItEXT3qHw6M"
      },
      "outputs": [],
      "source": [
        "#Центральность степенная\n",
        "degree_centrality = nx.degree_centrality(G)\n",
        "max(degree_centrality.values())"
      ]
    },
    {
      "cell_type": "code",
      "execution_count": null,
      "metadata": {
        "id": "uRopTAOlHw6Y"
      },
      "outputs": [],
      "source": [
        "#Центральность близость\n",
        "close_cent = nx.closeness_centrality(G)\n",
        "print(close_cent)"
      ]
    },
    {
      "cell_type": "code",
      "execution_count": null,
      "metadata": {
        "id": "c8eqzw2AHw6Y"
      },
      "outputs": [],
      "source": [
        "#Центральность собственный вектор\n",
        "eigen_cent = nx.eigenvector_centrality(G)\n",
        "print(eigen_cent)"
      ]
    },
    {
      "cell_type": "code",
      "execution_count": null,
      "metadata": {
        "id": "YNTzbso3Hw6Y"
      },
      "outputs": [],
      "source": [
        "#Диаметр\n",
        "d = nx.diameter(G)\n",
        "print(d)"
      ]
    },
    {
      "cell_type": "code",
      "execution_count": null,
      "metadata": {
        "id": "hn64RRfQHw6Z"
      },
      "outputs": [],
      "source": [
        "#Радиус\n",
        "r = nx.radius(G)\n",
        "print(r)"
      ]
    },
    {
      "cell_type": "code",
      "execution_count": null,
      "metadata": {
        "id": "wC9HXU2gHw6Z"
      },
      "outputs": [],
      "source": [
        "#Центральные вершины\n",
        "centr = nx.center(G)\n",
        "print(centr)"
      ]
    },
    {
      "cell_type": "code",
      "execution_count": null,
      "metadata": {
        "id": "jRovGEBiHw6a"
      },
      "outputs": [],
      "source": [
        "#Периферийные вершины\n",
        "perif = nx.periphery(G)\n",
        "print(perif)"
      ]
    },
    {
      "cell_type": "code",
      "execution_count": null,
      "metadata": {
        "id": "gJ1xXh2cHw6a"
      },
      "outputs": [],
      "source": [
        "#Максимум клики\n",
        "max_cliques = nx.find_cliques(G)\n",
        "print(max_cliques)"
      ]
    },
    {
      "cell_type": "code",
      "source": [
        "#Эксцентриситет\n",
        "ecc = nx.eccentricity(G)"
      ],
      "metadata": {
        "id": "nLBpONvFKv1V"
      },
      "execution_count": null,
      "outputs": []
    },
    {
      "cell_type": "code",
      "source": [
        "# проверяем граф на триангуляцию\n",
        "is_chordal = nx.is_chordal(G)\n",
        "if is_chordal:\n",
        "    print(\"Граф триангулирован\")\n",
        "else:\n",
        "    print(\"Граф не триангулирован\")"
      ],
      "metadata": {
        "id": "aTzLI1tNJAMm"
      },
      "execution_count": null,
      "outputs": []
    },
    {
      "cell_type": "code",
      "source": [
        "# приводим граф к триангулированному виду\n",
        "triangulated_graph = nx.chordal_graph_cliques(G)"
      ],
      "metadata": {
        "id": "QHQRR1OMJT5r"
      },
      "execution_count": null,
      "outputs": []
    }
  ],
  "metadata": {
    "accelerator": "GPU",
    "colab": {
      "provenance": []
    },
    "gpuClass": "standard",
    "kernelspec": {
      "display_name": "Python 3 (ipykernel)",
      "language": "python",
      "name": "python3"
    },
    "language_info": {
      "codemirror_mode": {
        "name": "ipython",
        "version": 3
      },
      "file_extension": ".py",
      "mimetype": "text/x-python",
      "name": "python",
      "nbconvert_exporter": "python",
      "pygments_lexer": "ipython3",
      "version": "3.9.13"
    }
  },
  "nbformat": 4,
  "nbformat_minor": 0
}